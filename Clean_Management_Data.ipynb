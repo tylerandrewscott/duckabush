{
 "metadata": {
  "name": "Clean_Management_Data"
 },
 "nbformat": 3,
 "nbformat_minor": 0,
 "worksheets": [
  {
   "cells": [
    {
     "cell_type": "code",
     "collapsed": false,
     "input": [
      "#ipython --pylab\n",
      "import pandas\n",
      "from pandas import read_csv\n",
      "from urllib import urlopen\n",
      "import numpy as np\n",
      "from pandas import concat\n",
      "from pandas import merge\n",
      "!pip install utils.text\n",
      "import utils.text as ut\n"
     ],
     "language": "python",
     "metadata": {},
     "outputs": [
      {
       "output_type": "stream",
       "stream": "stdout",
       "text": [
        "/bin/sh: pip: command not found\r\n"
       ]
      },
      {
       "ename": "ImportError",
       "evalue": "No module named utils.text",
       "output_type": "pyerr",
       "traceback": [
        "\u001b[0;31m---------------------------------------------------------------------------\u001b[0m\n\u001b[0;31mImportError\u001b[0m                               Traceback (most recent call last)",
        "\u001b[0;32m<ipython-input-15-c36b6be774ed>\u001b[0m in \u001b[0;36m<module>\u001b[0;34m()\u001b[0m\n\u001b[1;32m      7\u001b[0m \u001b[0;32mfrom\u001b[0m \u001b[0mpandas\u001b[0m \u001b[0;32mimport\u001b[0m \u001b[0mmerge\u001b[0m\u001b[0;34m\u001b[0m\u001b[0m\n\u001b[1;32m      8\u001b[0m \u001b[0mget_ipython\u001b[0m\u001b[0;34m(\u001b[0m\u001b[0;34m)\u001b[0m\u001b[0;34m.\u001b[0m\u001b[0msystem\u001b[0m\u001b[0;34m(\u001b[0m\u001b[0;34mu'pip install utils.text'\u001b[0m\u001b[0;34m)\u001b[0m\u001b[0;34m\u001b[0m\u001b[0m\n\u001b[0;32m----> 9\u001b[0;31m \u001b[0;32mimport\u001b[0m \u001b[0mutils\u001b[0m\u001b[0;34m.\u001b[0m\u001b[0mtext\u001b[0m \u001b[0;32mas\u001b[0m \u001b[0mut\u001b[0m\u001b[0;34m\u001b[0m\u001b[0m\n\u001b[0m",
        "\u001b[0;31mImportError\u001b[0m: No module named utils.text"
       ]
      }
     ],
     "prompt_number": 15
    },
    {
     "cell_type": "code",
     "collapsed": false,
     "input": [
      "#read in nrsa site info\n",
      "tmp = pandas.DataFrame(read_csv('/Users/TScott/Google Drive/duckabush/management_data_v2.csv'))\n",
      "manage_df = pandas.DataFrame(tmp)"
     ],
     "language": "python",
     "metadata": {},
     "outputs": [],
     "prompt_number": 2
    },
    {
     "cell_type": "code",
     "collapsed": false,
     "input": [
      "manage_df.columns"
     ],
     "language": "python",
     "metadata": {},
     "outputs": [
      {
       "output_type": "pyout",
       "prompt_number": 26,
       "text": [
        "Index([Impaired, EPA_WEB, FOUND_DATE, PLAN, PLAN_YEAR, PLAN2, PLAN2_YEAR, GROUP, RC&D, GROUP_FORM, ENDED, HUC8_IN_SHED, HUC12_IN_SHED, ACRES, HUC12, ONGOING, GOVERNANCE_BODY, BYLAWS, GOV_WEB, MEET, INTERNATION, OTHERNAT, INTERSTATE, OTHERSTATES, FLOOD_CONTROL, TECH_BODY, MEM_NGO, MEM_AG, MEM_UNIV, MEM_TRIBE, MEM_STAKE, MEM_BUS, MEM_FED, MEM_STATE, COORDINATOR, FUNDING, AUTHORITY, EXEC_COMMITTEE, PUBLIC_VIA, ENGAGED_IN, OBJECTIVE_SETTING, CONTACT, WHO, PHONE, EMAIL, STATE_SHED_SITE, WATERSHED, SURVEY, ID, VISIT, CON_ID, COUNTY, ECO3, ECOREPORT, FED_OWN, FSEASTWEST, FW_ECO3, FW_ECO9, HUC8, LOC_NAME, MAJ_BAS_NM, MISS_SUB, STATE, STRAHLER, STRATUM, UrbanCat, VISIT_NO, WSAREA, XLAT_DD, XLON_DD, YEAR, EPAREG, STATE_WATERSHED_RULES], dtype=object)"
       ]
      }
     ],
     "prompt_number": 26
    },
    {
     "cell_type": "code",
     "collapsed": false,
     "input": [
      "for i in xrange(0,manage_df.shape[0]):\n",
      "    if manage_df['SURVEY'][i]=='wsa':\n",
      "        for j in xrange(0,manage_df.shape[0]):\n",
      "            if np.str(manage_df['SURVEY'][j])=='nrsa'np.str(manage_df['CON_ID'][j])==np.str(manage_df['CON_ID'][i]):\n",
      "                manage_df['EPA_WEB'][j] = manage_df['EPA_WEB'][i]"
     ],
     "language": "python",
     "metadata": {},
     "outputs": [
      {
       "ename": "TypeError",
       "evalue": "unsupported operand type(s) for &: 'str' and 'str'",
       "output_type": "pyerr",
       "traceback": [
        "\u001b[0;31m---------------------------------------------------------------------------\u001b[0m\n\u001b[0;31mTypeError\u001b[0m                                 Traceback (most recent call last)",
        "\u001b[0;32m<ipython-input-40-23137215409b>\u001b[0m in \u001b[0;36m<module>\u001b[0;34m()\u001b[0m\n\u001b[1;32m      2\u001b[0m     \u001b[0;32mif\u001b[0m \u001b[0mmanage_df\u001b[0m\u001b[0;34m[\u001b[0m\u001b[0;34m'SURVEY'\u001b[0m\u001b[0;34m]\u001b[0m\u001b[0;34m[\u001b[0m\u001b[0mi\u001b[0m\u001b[0;34m]\u001b[0m\u001b[0;34m==\u001b[0m\u001b[0;34m'wsa'\u001b[0m\u001b[0;34m:\u001b[0m\u001b[0;34m\u001b[0m\u001b[0m\n\u001b[1;32m      3\u001b[0m         \u001b[0;32mfor\u001b[0m \u001b[0mj\u001b[0m \u001b[0;32min\u001b[0m \u001b[0mxrange\u001b[0m\u001b[0;34m(\u001b[0m\u001b[0;36m0\u001b[0m\u001b[0;34m,\u001b[0m\u001b[0mmanage_df\u001b[0m\u001b[0;34m.\u001b[0m\u001b[0mshape\u001b[0m\u001b[0;34m[\u001b[0m\u001b[0;36m0\u001b[0m\u001b[0;34m]\u001b[0m\u001b[0;34m)\u001b[0m\u001b[0;34m:\u001b[0m\u001b[0;34m\u001b[0m\u001b[0m\n\u001b[0;32m----> 4\u001b[0;31m             \u001b[0;32mif\u001b[0m \u001b[0mnp\u001b[0m\u001b[0;34m.\u001b[0m\u001b[0mstr\u001b[0m\u001b[0;34m(\u001b[0m\u001b[0mmanage_df\u001b[0m\u001b[0;34m[\u001b[0m\u001b[0;34m'SURVEY'\u001b[0m\u001b[0;34m]\u001b[0m\u001b[0;34m[\u001b[0m\u001b[0mj\u001b[0m\u001b[0;34m]\u001b[0m\u001b[0;34m)\u001b[0m\u001b[0;34m==\u001b[0m\u001b[0;34m'nrsa'\u001b[0m\u001b[0;34m&\u001b[0m\u001b[0mnp\u001b[0m\u001b[0;34m.\u001b[0m\u001b[0mstr\u001b[0m\u001b[0;34m(\u001b[0m\u001b[0mmanage_df\u001b[0m\u001b[0;34m[\u001b[0m\u001b[0;34m'CON_ID'\u001b[0m\u001b[0;34m]\u001b[0m\u001b[0;34m[\u001b[0m\u001b[0mj\u001b[0m\u001b[0;34m]\u001b[0m\u001b[0;34m)\u001b[0m\u001b[0;34m==\u001b[0m\u001b[0mnp\u001b[0m\u001b[0;34m.\u001b[0m\u001b[0mstr\u001b[0m\u001b[0;34m(\u001b[0m\u001b[0mmanage_df\u001b[0m\u001b[0;34m[\u001b[0m\u001b[0;34m'CON_ID'\u001b[0m\u001b[0;34m]\u001b[0m\u001b[0;34m[\u001b[0m\u001b[0mi\u001b[0m\u001b[0;34m]\u001b[0m\u001b[0;34m)\u001b[0m\u001b[0;34m:\u001b[0m\u001b[0;34m\u001b[0m\u001b[0m\n\u001b[0m\u001b[1;32m      5\u001b[0m                 \u001b[0mmanage_df\u001b[0m\u001b[0;34m[\u001b[0m\u001b[0;34m'EPA_WEB'\u001b[0m\u001b[0;34m]\u001b[0m\u001b[0;34m[\u001b[0m\u001b[0mj\u001b[0m\u001b[0;34m]\u001b[0m \u001b[0;34m=\u001b[0m \u001b[0mmanage_df\u001b[0m\u001b[0;34m[\u001b[0m\u001b[0;34m'EPA_WEB'\u001b[0m\u001b[0;34m]\u001b[0m\u001b[0;34m[\u001b[0m\u001b[0mi\u001b[0m\u001b[0;34m]\u001b[0m\u001b[0;34m\u001b[0m\u001b[0m\n",
        "\u001b[0;31mTypeError\u001b[0m: unsupported operand type(s) for &: 'str' and 'str'"
       ]
      }
     ],
     "prompt_number": 40
    },
    {
     "cell_type": "code",
     "collapsed": false,
     "input": [
      "np.str(manage_df['SURVEY'])"
     ],
     "language": "python",
     "metadata": {},
     "outputs": [
      {
       "output_type": "pyout",
       "prompt_number": 31,
       "text": [
        "'0     wsa\\n1     wsa\\n2     wsa\\n3     wsa\\n4     wsa\\n5     wsa\\n6     wsa\\n7     wsa\\n8     wsa\\n9     wsa\\n10    wsa\\n11    wsa\\n12    wsa\\n13    wsa\\n14    wsa\\n...\\n699    nrsa\\n700    nrsa\\n701    nrsa\\n702    nrsa\\n703    nrsa\\n704    nrsa\\n705    nrsa\\n706    nrsa\\n707    nrsa\\n708    nrsa\\n709    nrsa\\n710    nrsa\\n711    nrsa\\n712    nrsa\\n713    nrsa\\nName: SURVEY, Length: 714, dtype: object'"
       ]
      }
     ],
     "prompt_number": 31
    },
    {
     "cell_type": "code",
     "collapsed": false,
     "input": [
      "np.str(manage_df['SURVEY'][10])"
     ],
     "language": "python",
     "metadata": {},
     "outputs": [
      {
       "output_type": "pyout",
       "prompt_number": 38,
       "text": [
        "'wsa'"
       ]
      }
     ],
     "prompt_number": 38
    },
    {
     "cell_type": "code",
     "collapsed": false,
     "input": [],
     "language": "python",
     "metadata": {},
     "outputs": []
    }
   ],
   "metadata": {}
  }
 ]
}