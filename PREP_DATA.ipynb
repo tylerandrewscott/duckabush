{
 "metadata": {
  "name": "",
  "signature": "sha256:34e6fe70bc93d9187d412bc13cfe8cc6a328ddd19176b247aaee18faa398e5a0"
 },
 "nbformat": 3,
 "nbformat_minor": 0,
 "worksheets": [
  {
   "cells": [
    {
     "cell_type": "code",
     "collapsed": false,
     "input": [
      "import numpy as np\n",
      "import pandas as pd\n",
      "from pandas import read_csv\n",
      "import pylab"
     ],
     "language": "python",
     "metadata": {},
     "outputs": [],
     "prompt_number": 1
    },
    {
     "cell_type": "code",
     "collapsed": false,
     "input": [
      "#%Rpush X Y\n",
      "#%R mod1 = lm(Y~X+I(X^2))\n",
      "#%Rpull mod1\n",
      "#print(mod1)\n",
      "#read in nrsa site info\n",
      "tmp = pd.DataFrame(read_csv('//Users/TScott/Google Drive/duckabush/cleaned_and_copied_watershed_data.csv'))\n",
      "wdata = pd.DataFrame(tmp)\n",
      "wdat = wdata[wdata['VISIT_NO']==1]\n",
      "wdt = wdat.replace(to_replace=' ', value=NaN)\n",
      "\n",
      "wdt['XCMGW'] = float64(wdt['XCMGW'])\n",
      "wdt['LRBS_BW5'] = float64(wdt['LRBS_BW5'])\n",
      "wdt['PFOR'] = float64(wdt['PFOR'])\n",
      "wdt['PURB'] = float64(wdt['PURB'])\n",
      "wdt['PWETL'] = float64(wdt['PWETL'])\n",
      "wdt['PAGT'] = float64(wdt['PAGT'])\n",
      "wdt['POPDENS'] = float64(wdt['POPDENS'])\n",
      "wdt['POPDENS'] = float64(wdt['POPDENS'])\n",
      "\n",
      "wdt['LN_XCMGW'] = np.log(wdt['XCMGW']+0.01)\n",
      "wdt['LN_XFC_NAT'] = np.log(wdt['XFC_NAT']+0.01)\n",
      "#turn fed owned variable into binary fed/non-fed (small sample sizes for some fed categories)\n",
      "wdt['FED_OWN'][wdt['FED_OWN'] != 'Non Federal'] = 'Federal'\n",
      "nrsa_sub = wdt[wdt['YEAR']>2006]\n",
      "wsa_sub = wdt[wdt['YEAR']<2006]\n",
      "wsa_sub = wsa_sub[wsa_sub['CON_ID'].duplicated()==False]\n",
      "nrsa_sub = nrsa_sub[nrsa_sub['CON_ID'].duplicated()==False]\n",
      "both_dat = wsa_sub.append(nrsa_sub)\n",
      "both_dat.to_csv('//Users/TScott/Google Drive/duckabush/ready_to_model_dat.csv')\n",
      "\n",
      "\n",
      "\n",
      "\n",
      "\n"
     ],
     "language": "python",
     "metadata": {},
     "outputs": [],
     "prompt_number": 3
    }
   ],
   "metadata": {}
  }
 ]
}